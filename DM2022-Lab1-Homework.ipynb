{
 "cells": [
  {
   "cell_type": "markdown",
   "metadata": {},
   "source": [
    "### Student Information\n",
    "Name: 黃恩平\n",
    "\n",
    "Student ID: 111033622\n",
    "\n",
    "GitHub ID: npinghuang"
   ]
  },
  {
   "cell_type": "markdown",
   "metadata": {},
   "source": [
    "---"
   ]
  },
  {
   "cell_type": "markdown",
   "metadata": {},
   "source": [
    "### Instructions"
   ]
  },
  {
   "cell_type": "markdown",
   "metadata": {},
   "source": [
    "1. First: do the **take home** exercises in the [DM2022-Lab1-Master](https://github.com/keziatamus/DM2022-Lab1-Master). You may need to copy some cells from the Lab notebook to this notebook. __This part is worth 20% of your grade.__\n",
    "\n",
    "\n",
    "2. Second: follow the same process from the [DM2022-Lab1-Master](https://github.com/keziatamus/DM2022-Lab1-Master) on **the new dataset**. You don't need to explain all details as we did (some **minimal comments** explaining your code are useful though).  __This part is worth 30% of your grade.__\n",
    "    - Download the [the new dataset](https://archive.ics.uci.edu/ml/datasets/Sentiment+Labelled+Sentences#). The dataset contains a `sentence` and `score` label. Read the specificiations of the dataset for details. \n",
    "    - You are allowed to use and modify the `helper` functions in the folder of the first lab session (notice they may need modification) or create your own.\n",
    "\n",
    "\n",
    "3. Third: please attempt the following tasks on **the new dataset**. __This part is worth 30% of your grade.__\n",
    "    - Generate meaningful **new data visualizations**. Refer to online resources and the Data Mining textbook for inspiration and ideas. \n",
    "    - Generate **TF-IDF features** from the tokens of each text. This will generating a document matrix, however, the weights will be computed differently (using the TF-IDF value of each word per document as opposed to the word frequency). Refer to this Sciki-learn [guide](http://scikit-learn.org/stable/modules/generated/sklearn.feature_extraction.text.TfidfVectorizer.html) .\n",
    "    - Implement a simple **Naive Bayes classifier** that automatically classifies the records into their categories. Use both the TF-IDF features and word frequency features to build two seperate classifiers. Comment on the differences.  Refer to this [article](https://hub.packtpub.com/implementing-3-naive-bayes-classifiers-in-scikit-learn/).\n",
    "\n",
    "\n",
    "4. Fourth: In the lab, we applied each step really quickly just to illustrate how to work with your dataset. There are somethings that are not ideal or the most efficient/meaningful. Each dataset can be habdled differently as well. What are those inefficent parts you noticed? How can you improve the Data preprocessing for these specific datasets? __This part is worth 10% of your grade.__\n",
    "\n",
    "\n",
    "5. Fifth: It's hard for us to follow if your code is messy, so please **tidy up your notebook** and **add minimal comments where needed**. __This part is worth 10% of your grade.__\n",
    "\n",
    "\n",
    "You can submit your homework following these guidelines: [Git Intro & How to hand your homework](https://github.com/keziatamus/DM2022-Lab1-Homework/blob/main/Git%20Intro%20%26%20How%20to%20hand%20your%20homework.ipynb). Make sure to commit and save your changes to your repository __BEFORE the deadline (October 20th 11:59 pm, Thursday)__. "
   ]
  },
  {
   "cell_type": "markdown",
   "metadata": {},
   "source": [
    "## 0. The Preparation"
   ]
  },
  {
   "cell_type": "code",
   "execution_count": 122,
   "metadata": {},
   "outputs": [
    {
     "name": "stdout",
     "output_type": "stream",
     "text": [
      "The autoreload extension is already loaded. To reload it, use:\n",
      "  %reload_ext autoreload\n"
     ]
    }
   ],
   "source": [
    "### Begin Assignment Here\n",
    "# TEST necessary for when working with external scripts\n",
    "%load_ext autoreload\n",
    "%autoreload 2\n",
    "import os\n",
    "import numpy as np\n",
    "import pandas as pd\n",
    "import sklearn\n",
    "import helpers.data_mining_helpers as dmh\n",
    "import nltk\n",
    "import seaborn as sns\n",
    "from sklearn.feature_extraction.text import CountVectorizer\n",
    "\n",
    "import matplotlib.pyplot as plt\n",
    "%matplotlib inline"
   ]
  },
  {
   "cell_type": "markdown",
   "metadata": {},
   "source": [
    "## 1. The Data"
   ]
  },
  {
   "cell_type": "code",
   "execution_count": 105,
   "metadata": {},
   "outputs": [
    {
     "name": "stdout",
     "output_type": "stream",
     "text": [
      "<class 'pandas.core.frame.DataFrame'>\n",
      "RangeIndex: 3000 entries, 0 to 2999\n",
      "Data columns (total 3 columns):\n",
      " #   Column       Non-Null Count  Dtype \n",
      "---  ------       --------------  ----- \n",
      " 0   sentence     3000 non-null   object\n",
      " 1   score        3000 non-null   int64 \n",
      " 2   source_name  3000 non-null   object\n",
      "dtypes: int64(1), object(2)\n",
      "memory usage: 70.4+ KB\n",
      "None\n"
     ]
    }
   ],
   "source": [
    "FOLDER = 'data/'\n",
    "filepath_dict = {'amazon': 'amazon_cells_labelled.txt', 'imbd'  : 'imdb_labelled.txt', 'yelp'  : 'yelp_labelled.txt'}\n",
    "\n",
    "tmp_data = []\n",
    "i = 0\n",
    "for NAME, PATH in filepath_dict.items():\n",
    "    tmp_data.append(pd.read_csv(FOLDER + PATH, sep = '\\t', header=None, names=['sentence', 'score'], engine = 'python', quoting=3))\n",
    "    # add source name to data\n",
    "    tmp_data[i]['source_name'] = NAME\n",
    "    i = i +1\n",
    "DATA = pd.concat(tmp_data, ignore_index=True)\n",
    "print(DATA.info())"
   ]
  },
  {
   "cell_type": "markdown",
   "metadata": {},
   "source": [
    "##### Note :\n",
    "In **'imdb_labelled.txt'**, there are many sentences with only one **\"**. Which **pandas** need to scan another **\"** for it to function properly. To fix this, I found a solution on [stackoverflow](https://stackoverflow.com/questions/55010807/pandas-errors-parsererror-expected-after). By adding **quoting=3**, the issue is solved."
   ]
  },
  {
   "cell_type": "markdown",
   "metadata": {},
   "source": [
    "## 2. Data Mining using Pandas\n",
    "### 2.1 Missing Values"
   ]
  },
  {
   "cell_type": "code",
   "execution_count": 106,
   "metadata": {},
   "outputs": [
    {
     "data": {
      "text/html": [
       "<div>\n",
       "<style scoped>\n",
       "    .dataframe tbody tr th:only-of-type {\n",
       "        vertical-align: middle;\n",
       "    }\n",
       "\n",
       "    .dataframe tbody tr th {\n",
       "        vertical-align: top;\n",
       "    }\n",
       "\n",
       "    .dataframe thead th {\n",
       "        text-align: right;\n",
       "    }\n",
       "</style>\n",
       "<table border=\"1\" class=\"dataframe\">\n",
       "  <thead>\n",
       "    <tr style=\"text-align: right;\">\n",
       "      <th></th>\n",
       "      <th>sentence</th>\n",
       "      <th>score</th>\n",
       "      <th>source_name</th>\n",
       "    </tr>\n",
       "  </thead>\n",
       "  <tbody>\n",
       "    <tr>\n",
       "      <th>0</th>\n",
       "      <td>The amoung of missing records is:</td>\n",
       "      <td>The amoung of missing records is:</td>\n",
       "      <td>The amoung of missing records is:</td>\n",
       "    </tr>\n",
       "    <tr>\n",
       "      <th>1</th>\n",
       "      <td>0</td>\n",
       "      <td>0</td>\n",
       "      <td>0</td>\n",
       "    </tr>\n",
       "  </tbody>\n",
       "</table>\n",
       "</div>"
      ],
      "text/plain": [
       "                             sentence                               score  \\\n",
       "0  The amoung of missing records is:   The amoung of missing records is:    \n",
       "1                                   0                                   0   \n",
       "\n",
       "                          source_name  \n",
       "0  The amoung of missing records is:   \n",
       "1                                   0  "
      ]
     },
     "execution_count": 106,
     "metadata": {},
     "output_type": "execute_result"
    }
   ],
   "source": [
    "#check missing values\n",
    "DATA.isnull().apply(lambda x: dmh.check_missing_values(x), axis = 0)"
   ]
  },
  {
   "cell_type": "code",
   "execution_count": 107,
   "metadata": {},
   "outputs": [
    {
     "data": {
      "text/plain": [
       "0       (The amoung of missing records is: , 0)\n",
       "1       (The amoung of missing records is: , 0)\n",
       "2       (The amoung of missing records is: , 0)\n",
       "3       (The amoung of missing records is: , 0)\n",
       "4       (The amoung of missing records is: , 0)\n",
       "                         ...                   \n",
       "2995    (The amoung of missing records is: , 0)\n",
       "2996    (The amoung of missing records is: , 0)\n",
       "2997    (The amoung of missing records is: , 0)\n",
       "2998    (The amoung of missing records is: , 0)\n",
       "2999    (The amoung of missing records is: , 0)\n",
       "Length: 3000, dtype: object"
      ]
     },
     "execution_count": 107,
     "metadata": {},
     "output_type": "execute_result"
    }
   ],
   "source": [
    "DATA.isnull().apply(lambda x: dmh.check_missing_values(x), axis = 1)\n"
   ]
  },
  {
   "cell_type": "markdown",
   "metadata": {},
   "source": [
    "### 2.2 Duplicate Data"
   ]
  },
  {
   "cell_type": "code",
   "execution_count": 108,
   "metadata": {},
   "outputs": [
    {
     "name": "stdout",
     "output_type": "stream",
     "text": [
      "                                               sentence  score source_name\n",
      "285                                       Great phone!.      1      amazon\n",
      "407                                        Works great.      1      amazon\n",
      "524                                       Works great!.      1      amazon\n",
      "543                             Don't buy this product.      0      amazon\n",
      "744   If you like a loud buzzing to override all you...      0      amazon\n",
      "748                                       Does not fit.      0      amazon\n",
      "778                               This is a great deal.      1      amazon\n",
      "792                                        Great Phone.      1      amazon\n",
      "892                    Excellent product for the price.      1      amazon\n",
      "896                                        Great phone.      1      amazon\n",
      "1363                   Definitely worth checking out.        1        imbd\n",
      "1585                                 Not recommended.        0        imbd\n",
      "1788                                            10/10        1        imbd\n",
      "2814                                 I love this place.      1        yelp\n",
      "2816                             The food was terrible.      0        yelp\n",
      "2843                                   I won't be back.      0        yelp\n",
      "2846                  I would not recommend this place.      0        yelp\n",
      "                                               sentence  score source_name\n",
      "18                                        Works great!.      1      amazon\n",
      "179   If you like a loud buzzing to override all you...      0      amazon\n",
      "180                             Don't buy this product.      0      amazon\n",
      "187                                       Great phone!.      1      amazon\n",
      "262                                        Works great.      1      amazon\n",
      "290                                        Great Phone.      1      amazon\n",
      "392                               This is a great deal.      1      amazon\n",
      "402                    Excellent product for the price.      1      amazon\n",
      "446                                       Does not fit.      0      amazon\n",
      "647                                        Great phone.      1      amazon\n",
      "1090                   Definitely worth checking out.        1        imbd\n",
      "1125                                            10/10        1        imbd\n",
      "1572                                 Not recommended.        0        imbd\n",
      "2334                                 I love this place.      1        yelp\n",
      "2380                                   I won't be back.      0        yelp\n",
      "2383                             The food was terrible.      0        yelp\n",
      "2505                  I would not recommend this place.      0        yelp\n",
      "number of duplicate sentences :  17\n",
      "number of duplicate sentences after :  0\n"
     ]
    }
   ],
   "source": [
    "print(DATA[DATA.duplicated(keep='first')])\n",
    "print(DATA[DATA.duplicated(keep='last')])\n",
    "\n",
    "print( \"number of duplicate sentences : \",sum(DATA.duplicated('sentence')))\n",
    "DATA.drop_duplicates(keep=False, inplace=True) # inplace applies changes directly on our dataframe\n",
    "print( \"number of duplicate sentences after : \",sum(DATA.duplicated('sentence')))\n"
   ]
  },
  {
   "cell_type": "markdown",
   "metadata": {},
   "source": [
    "## 3. Data Preprocessing"
   ]
  },
  {
   "cell_type": "markdown",
   "metadata": {},
   "source": [
    "### 3.1 Source distribution"
   ]
  },
  {
   "cell_type": "code",
   "execution_count": 116,
   "metadata": {},
   "outputs": [
    {
     "name": "stdout",
     "output_type": "stream",
     "text": [
      "imbd      994\n",
      "yelp      992\n",
      "amazon    980\n",
      "Name: source_name, dtype: int64\n"
     ]
    },
    {
     "data": {
      "text/plain": [
       "<AxesSubplot:title={'center':'Source distribution'}>"
      ]
     },
     "execution_count": 116,
     "metadata": {},
     "output_type": "execute_result"
    },
    {
     "data": {
      "image/png": "[encoded data removed]",
      "text/plain": [
       "<Figure size 576x216 with 1 Axes>"
      ]
     },
     "metadata": {
      "needs_background": "light"
     },
     "output_type": "display_data"
    }
   ],
   "source": [
    "# categories\n",
    "categories = ['amazon', 'imbd', 'yelp']\n",
    "print(DATA.source_name.value_counts())\n",
    "upper_bound = max(DATA.source_name.value_counts())+50\n",
    "# plot barchart for DATA\n",
    "DATA.source_name.value_counts().plot(kind = 'bar',\n",
    "                                    title = 'Source distribution',\n",
    "                                    ylim = [0, upper_bound],        \n",
    "                                    rot = 0, fontsize = 11, figsize = (8,3))"
   ]
  },
  {
   "cell_type": "markdown",
   "metadata": {},
   "source": [
    "### 3.2 Feature Creation"
   ]
  },
  {
   "cell_type": "markdown",
   "metadata": {},
   "source": [
    "#### Tokenization of the **sentence**"
   ]
  },
  {
   "cell_type": "code",
   "execution_count": 119,
   "metadata": {},
   "outputs": [],
   "source": [
    "# takes a like a minute or two to process\n",
    "DATA['unigrams'] = DATA['sentence'].apply(lambda x: dmh.tokenize_text(x))"
   ]
  },
  {
   "cell_type": "markdown",
   "metadata": {},
   "source": [
    "### 3.3 Feature subset selection\n",
    "Heatmap"
   ]
  },
  {
   "cell_type": "code",
   "execution_count": 144,
   "metadata": {},
   "outputs": [
    {
     "data": {
      "text/plain": [
       "[2073,\n",
       " 2559,\n",
       " 1850,\n",
       " 352,\n",
       " 2584,\n",
       " 1988,\n",
       " 1539,\n",
       " 2790,\n",
       " 2243,\n",
       " 2697,\n",
       " 2681,\n",
       " 2326,\n",
       " 97,\n",
       " 592,\n",
       " 743,\n",
       " 127,\n",
       " 875,\n",
       " 691,\n",
       " 2578,\n",
       " 2741,\n",
       " 2427,\n",
       " 416,\n",
       " 22,\n",
       " 765,\n",
       " 2822]"
      ]
     },
     "execution_count": 144,
     "metadata": {},
     "output_type": "execute_result"
    }
   ],
   "source": [
    "DATA_sample.index.to_list()"
   ]
  },
  {
   "cell_type": "code",
   "execution_count": 146,
   "metadata": {},
   "outputs": [
    {
     "data": {
      "image/png": "[encoded data removed]",
      "text/plain": [
       "<Figure size 648x504 with 2 Axes>"
      ]
     },
     "metadata": {
      "needs_background": "light"
     },
     "output_type": "display_data"
    }
   ],
   "source": [
    "count_vect = CountVectorizer()\n",
    "\n",
    "DATA_counts = count_vect.fit_transform(DATA.sentence) #learn the vocabulary and return document-term matrix\n",
    "SIZE = 25\n",
    "pd_counts = pd.DataFrame(DATA_counts.toarray())\n",
    "# sum up each column\n",
    "counts_sum = pd_counts.sum()\n",
    "# sort into ascending order according to counts_sum\n",
    "pd_counts = pd_counts[counts_sum.sort_values(ascending=False).index[:20]]\n",
    "\n",
    "# first twenty features only\n",
    "plot_x = [\"term_\"+str(i) for i in count_vect.get_feature_names_out()[pd_counts.columns[:20]]]\n",
    "# obtain document index\n",
    "plot_y = [\"doc_\"+ str(i) for i in list(DATA.index)[0:SIZE]]\n",
    "plot_z = (pd_counts[0:SIZE][pd_counts.columns[:SIZE]]).to_numpy()\n",
    "\n",
    "\n",
    "df_todraw = pd.DataFrame(plot_z, columns = plot_x, index = plot_y)\n",
    "plt.subplots(figsize=(9, 7))\n",
    "ax = sns.heatmap(df_todraw,\n",
    "                 cmap=\"PuRd\",\n",
    "                 vmin=0, vmax=5, annot=True)\n",
    "\n"
   ]
  },
  {
   "cell_type": "code",
   "execution_count": null,
   "metadata": {},
   "outputs": [],
   "source": [
    "count_vect = CountVectorizer()\n",
    "SIZE = 25\n",
    "DATA_sample = DATA.sample(n = SIZE)\n",
    "DATA_counts = count_vect.fit_transform(DATA.sentence) #learn the vocabulary and return document-term matrix\n",
    "\n",
    "pd_counts = pd.DataFrame(DATA_counts.toarray())\n",
    "# sum up each column\n",
    "counts_sum = pd_counts.sum()\n",
    "# sort into ascending order according to counts_sum\n",
    "pd_counts = pd_counts[counts_sum.sort_values(ascending=False).index[:20]]\n",
    "\n",
    "# first twenty features only\n",
    "plot_x = [\"term_\"+str(i) for i in count_vect.get_feature_names_out()[pd_counts.columns[:20]]]\n",
    "# obtain document index\n",
    "plot_y = [\"doc_\"+ str(i) for i in list(DATA_sample.index)[0:SIZE]]\n",
    "plot_z = (pd_counts[DATA_sample.index.to_list()][pd_counts.columns[:SIZE]]).to_numpy()\n",
    "\n",
    "\n",
    "df_todraw = pd.DataFrame(plot_z, columns = plot_x, index = plot_y)\n",
    "plt.subplots(figsize=(9, 7))\n",
    "ax = sns.heatmap(df_todraw,\n",
    "                 cmap=\"PuRd\",\n",
    "                 vmin=0, vmax=5, annot=True)\n",
    "\n"
   ]
  }
 ],
 "metadata": {
  "kernelspec": {
   "display_name": "Python 3.9.12 ('base')",
   "language": "python",
   "name": "python3"
  },
  "language_info": {
   "codemirror_mode": {
    "name": "ipython",
    "version": 3
   },
   "file_extension": ".py",
   "mimetype": "text/x-python",
   "name": "python",
   "nbconvert_exporter": "python",
   "pygments_lexer": "ipython3",
   "version": "3.9.12"
  },
  "vscode": {
   "interpreter": {
    "hash": "ad2bdc8ecc057115af97d19610ffacc2b4e99fae6737bb82f5d7fb13d2f2c186"
   }
  }
 },
 "nbformat": 4,
 "nbformat_minor": 2
}
